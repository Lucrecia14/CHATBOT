{
  "cells": [
    {
      "cell_type": "code",
      "execution_count": 12,
      "metadata": {
        "colab": {
          "base_uri": "https://localhost:8080/"
        },
        "id": "Cz2PO5qjO_6y",
        "outputId": "c8b41488-f71c-48a0-f7c4-7042cc87e382"
      },
      "outputs": [
        {
          "output_type": "stream",
          "name": "stdout",
          "text": [
            "Hello welcome to TSK online banking service\n",
            "Greeting: hi\n",
            "my name is anne, how may I help you?\n",
            "services\n",
            "Here are the list of services we render\n",
            "1 Balance Enquiry\n",
            "2 Statement of Account\n",
            "3 Additional account\n",
            "4 Dispense Error\n",
            "5 Card Repalcement\n",
            "6 Pin Retrieval\n",
            "7 Airtime Purchase\n",
            "8 Electricity bill Payment\n",
            "specify the service you want\n",
            "1\n",
            "Enter Your account number\n",
            "8907\n",
            "your Balance is:#5000\n",
            "enter the no for statement: 2\n",
            "click on the link    to spool your statetement of account\n",
            "enter the no for airtime: 7\n",
            "Enter your phone number\n"
          ]
        }
      ],
      "source": [
        "# Chatbot Application for TSK\n",
        "services = ['Balance Enquiry', 'Statement of Account', 'Additional account', 'Dispense Error', 'Card Repalcement', 'Pin Retrieval', 'Airtime Purchase', 'Electricity bill Payment']\n",
        "print(\"Hello welcome to TSK online banking service\")\n",
        "name = str(input(\"Greeting: \"))\n",
        "print(\"my name is anne, how may I help you?\")\n",
        "while True:\n",
        "  enquiry = str(input())\n",
        "  if (enquiry == 'Q'):\n",
        "     print('you have entered the wrong input')\n",
        "     break\n",
        "  if enquiry == 'services':\n",
        "    print(\"Here are the list of services we render\")\n",
        "  for i in range(len(services)):\n",
        "    print(i+1,services[i])\n",
        "  else:\n",
        "      print(\"specify the service you want\")\n",
        "      break\n",
        "while True:\n",
        "  service_render = int(input())\n",
        "  if service_render == 1:     \n",
        "        print(\"Enter Your account number\")\n",
        "        acc_no = int(input())\n",
        "        print('your Balance is:#5000')\n",
        "        break\n",
        "service_render = int(input('enter the no for statement: '))\n",
        "if service_render == 2:\n",
        "  print(\"click on the link    to spool your statetement of account\")\n",
        "service_render = int(input('enter the no for airtime: '))\n",
        "if service_render == 7:\n",
        "  print(\"Enter your phone number\")"
      ]
    },
    {
      "cell_type": "code",
      "execution_count": null,
      "metadata": {
        "id": "ivcUQDcx6Ejn"
      },
      "outputs": [],
      "source": [
        ""
      ]
    }
  ],
  "metadata": {
    "colab": {
      "name": "CHATBOT2.ipynb",
      "provenance": []
    },
    "kernelspec": {
      "display_name": "Python 3",
      "name": "python3"
    },
    "language_info": {
      "name": "python"
    }
  },
  "nbformat": 4,
  "nbformat_minor": 0
}